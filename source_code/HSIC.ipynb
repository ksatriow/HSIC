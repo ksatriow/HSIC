{
  "nbformat": 4,
  "nbformat_minor": 0,
  "metadata": {
    "colab": {
      "name": "ML-Intermediate-Final Submission.ipynb",
      "provenance": [],
      "collapsed_sections": []
    },
    "kernelspec": {
      "name": "python3",
      "display_name": "Python 3"
    }
  },
  "cells": [
    {
      "cell_type": "code",
      "metadata": {
        "id": "_dkZmg_Otp_f",
        "colab_type": "code",
        "colab": {
          "base_uri": "https://localhost:8080/",
          "height": 72
        },
        "outputId": "c2e686f0-204f-4b2b-8a31-159417807873"
      },
      "source": [
        "import tensorflow as tf\n",
        "import pandas as pd\n",
        "import numpy as np\n",
        "\n",
        "from tensorflow import feature_column\n",
        "from tensorflow.keras import layers\n",
        "from tensorflow.keras.optimizers import RMSprop\n",
        "from tensorflow.keras.preprocessing.image import ImageDataGenerator\n",
        "from sklearn.model_selection import train_test_split\n",
        "from keras.utils import np_utils\n",
        "import matplotlib.pyplot as plt\n",
        "\n",
        "import keras\n",
        "import cv2\n",
        "import os\n",
        "import glob\n",
        "import platform\n",
        "\n",
        "print('Python version:', platform.python_version())\n",
        "print('Tensorflow version:', tf.__version__)\n",
        "print('Keras version:', tf.keras.__version__)"
      ],
      "execution_count": 129,
      "outputs": [
        {
          "output_type": "stream",
          "text": [
            "Python version: 3.6.9\n",
            "Tensorflow version: 2.3.0\n",
            "Keras version: 2.4.0\n"
          ],
          "name": "stdout"
        }
      ]
    },
    {
      "cell_type": "code",
      "metadata": {
        "id": "fJGiMlbnwHwJ",
        "colab_type": "code",
        "colab": {
          "base_uri": "https://localhost:8080/",
          "height": 35
        },
        "outputId": "95a38720-d79a-47df-ebad-5bcd51cbffde"
      },
      "source": [
        "from google.colab import drive\n",
        "drive.mount('/content/gdrive')"
      ],
      "execution_count": 130,
      "outputs": [
        {
          "output_type": "stream",
          "text": [
            "Drive already mounted at /content/gdrive; to attempt to forcibly remount, call drive.mount(\"/content/gdrive\", force_remount=True).\n"
          ],
          "name": "stdout"
        }
      ]
    },
    {
      "cell_type": "code",
      "metadata": {
        "id": "0KH0xlqOx2rV",
        "colab_type": "code",
        "colab": {
          "base_uri": "https://localhost:8080/",
          "height": 35
        },
        "outputId": "516be568-249a-45e9-a5ef-56002abe3d5b"
      },
      "source": [
        "!ls /content/gdrive/'My Drive'/dataset/"
      ],
      "execution_count": 131,
      "outputs": [
        {
          "output_type": "stream",
          "text": [
            "fruit-360.zip  nfruits.zip\n"
          ],
          "name": "stdout"
        }
      ]
    },
    {
      "cell_type": "code",
      "metadata": {
        "id": "zf4GhEX0yCUY",
        "colab_type": "code",
        "colab": {
          "base_uri": "https://localhost:8080/",
          "height": 54
        },
        "outputId": "afe1817f-32fa-47dc-d584-f0f9ee222b8c"
      },
      "source": [
        "!unzip \"/content/gdrive/My Drive/dataset/nfruits.zip\""
      ],
      "execution_count": 132,
      "outputs": [
        {
          "output_type": "stream",
          "text": [
            "Archive:  /content/gdrive/My Drive/dataset/nfruits.zip\n",
            "replace fruits-360/LICENSE? [y]es, [n]o, [A]ll, [N]one, [r]ename: N\n"
          ],
          "name": "stdout"
        }
      ]
    },
    {
      "cell_type": "code",
      "metadata": {
        "id": "ovG-XfnbylZu",
        "colab_type": "code",
        "colab": {
          "base_uri": "https://localhost:8080/",
          "height": 35
        },
        "outputId": "614868d9-57a4-41d0-876f-9077cc4be11f"
      },
      "source": [
        "!ls"
      ],
      "execution_count": 133,
      "outputs": [
        {
          "output_type": "stream",
          "text": [
            "fruits-360  gdrive  model.tflite  sample_data\n"
          ],
          "name": "stdout"
        }
      ]
    },
    {
      "cell_type": "code",
      "metadata": {
        "id": "eym3M6sSytbc",
        "colab_type": "code",
        "colab": {
          "base_uri": "https://localhost:8080/",
          "height": 35
        },
        "outputId": "eb016aa2-8d52-4b17-c635-e5b167fd55dc"
      },
      "source": [
        "print(os.listdir(\"../content/fruits-360\"))"
      ],
      "execution_count": 134,
      "outputs": [
        {
          "output_type": "stream",
          "text": [
            "['Test', 'Training', 'readme.md', 'LICENSE']\n"
          ],
          "name": "stdout"
        }
      ]
    },
    {
      "cell_type": "code",
      "metadata": {
        "id": "tGW-onygQLVt",
        "colab_type": "code",
        "colab": {
          "base_uri": "https://localhost:8080/",
          "height": 1000
        },
        "outputId": "a18131da-07fc-4959-fedb-14a65922d95c"
      },
      "source": [
        "img=glob.glob((\"../content/fruits-360/Training/*\"))\n",
        "for i in img:\n",
        "    print(i)"
      ],
      "execution_count": 135,
      "outputs": [
        {
          "output_type": "stream",
          "text": [
            "../content/fruits-360/Training/Tangelo\n",
            "../content/fruits-360/Training/Nectarine\n",
            "../content/fruits-360/Training/Fig\n",
            "../content/fruits-360/Training/Plum\n",
            "../content/fruits-360/Training/Blueberry\n",
            "../content/fruits-360/Training/Potato White\n",
            "../content/fruits-360/Training/Cucumber Ripe\n",
            "../content/fruits-360/Training/Beetroot\n",
            "../content/fruits-360/Training/Potato Red\n",
            "../content/fruits-360/Training/Pitahaya Red\n",
            "../content/fruits-360/Training/Mulberry\n",
            "../content/fruits-360/Training/Cactus fruit\n",
            "../content/fruits-360/Training/Lemon\n",
            "../content/fruits-360/Training/Pepper Orange\n",
            "../content/fruits-360/Training/Kohlrabi\n",
            "../content/fruits-360/Training/Dates\n",
            "../content/fruits-360/Training/Physalis\n",
            "../content/fruits-360/Training/Mango\n",
            "../content/fruits-360/Training/Pear\n",
            "../content/fruits-360/Training/Grape Blue\n",
            "../content/fruits-360/Training/Kumquats\n",
            "../content/fruits-360/Training/Lychee\n",
            "../content/fruits-360/Training/Walnut\n",
            "../content/fruits-360/Training/Orange\n",
            "../content/fruits-360/Training/Pepino\n",
            "../content/fruits-360/Training/Tomato Yellow\n",
            "../content/fruits-360/Training/Salak\n",
            "../content/fruits-360/Training/Avocado\n",
            "../content/fruits-360/Training/Kiwi\n",
            "../content/fruits-360/Training/Apricot\n",
            "../content/fruits-360/Training/Hazelnut\n",
            "../content/fruits-360/Training/Cauliflower\n",
            "../content/fruits-360/Training/Pomegranate\n",
            "../content/fruits-360/Training/Pomelo Sweetie\n",
            "../content/fruits-360/Training/Strawberry\n",
            "../content/fruits-360/Training/Ginger Root\n",
            "../content/fruits-360/Training/Melon Piel de Sapo\n",
            "../content/fruits-360/Training/Limes\n",
            "../content/fruits-360/Training/Quince\n",
            "../content/fruits-360/Training/Nut Forest\n",
            "../content/fruits-360/Training/Apple Red Delicious\n",
            "../content/fruits-360/Training/Tamarillo\n",
            "../content/fruits-360/Training/Mandarine\n",
            "../content/fruits-360/Training/Carambula\n",
            "../content/fruits-360/Training/Guava\n",
            "../content/fruits-360/Training/Clementine\n",
            "../content/fruits-360/Training/Papaya\n",
            "../content/fruits-360/Training/Peach\n",
            "../content/fruits-360/Training/Maracuja\n",
            "../content/fruits-360/Training/Onion White\n",
            "../content/fruits-360/Training/Huckleberry\n",
            "../content/fruits-360/Training/Raspberry\n",
            "../content/fruits-360/Training/Cocos\n",
            "../content/fruits-360/Training/Cherry Wax Black\n",
            "../content/fruits-360/Training/Watermelon\n",
            "../content/fruits-360/Training/Cantaloupe 1\n",
            "../content/fruits-360/Training/Kaki\n",
            "../content/fruits-360/Training/Corn\n",
            "../content/fruits-360/Training/Rambutan\n",
            "../content/fruits-360/Training/Chestnut\n",
            "../content/fruits-360/Training/Banana\n",
            "../content/fruits-360/Training/Redcurrant\n",
            "../content/fruits-360/Training/Pineapple\n",
            "../content/fruits-360/Training/Granadilla\n"
          ],
          "name": "stdout"
        }
      ]
    },
    {
      "cell_type": "code",
      "metadata": {
        "id": "UBQ3JZgKy7kH",
        "colab_type": "code",
        "colab": {
          "base_uri": "https://localhost:8080/",
          "height": 35
        },
        "outputId": "4fff55a4-bbe0-43e6-fd19-73eaf3ff8ea3"
      },
      "source": [
        "training_fruit_img = []\n",
        "training_label = []\n",
        "for dir_path in glob.glob(\"../content/fruits-360/Training/*\"):\n",
        "    img_label = dir_path.split(\"/\")[-1]\n",
        "    for image_path in glob.glob(os.path.join(dir_path,\"*.jpg\")):\n",
        "        \n",
        "        image = cv2.imread(image_path,cv2.IMREAD_COLOR)\n",
        "        image = cv2.resize(image, (64, 64))\n",
        "        image = cv2.cvtColor(image, cv2.COLOR_RGB2BGR)\n",
        "        training_fruit_img.append(image)\n",
        "        training_label.append(img_label)\n",
        "training_fruit_img = np.array(training_fruit_img)\n",
        "training_label = np.array(training_label)\n",
        "len(np.unique(training_label))"
      ],
      "execution_count": 136,
      "outputs": [
        {
          "output_type": "execute_result",
          "data": {
            "text/plain": [
              "64"
            ]
          },
          "metadata": {
            "tags": []
          },
          "execution_count": 136
        }
      ]
    },
    {
      "cell_type": "code",
      "metadata": {
        "id": "Sh5rj1JIREX4",
        "colab_type": "code",
        "colab": {}
      },
      "source": [
        "label_to_id = {v:k for k,v in enumerate(np.unique(training_label)) }\n",
        "id_to_label = {v:k for k,v in label_to_id.items() }"
      ],
      "execution_count": 137,
      "outputs": []
    },
    {
      "cell_type": "code",
      "metadata": {
        "id": "1DmoLwqhRRh0",
        "colab_type": "code",
        "colab": {
          "base_uri": "https://localhost:8080/",
          "height": 55
        },
        "outputId": "bcc2ff23-18eb-4200-8aaf-afbd5d4960c2"
      },
      "source": [
        "print(id_to_label)"
      ],
      "execution_count": 138,
      "outputs": [
        {
          "output_type": "stream",
          "text": [
            "{0: 'Apple Red Delicious', 1: 'Apricot', 2: 'Avocado', 3: 'Banana', 4: 'Beetroot', 5: 'Blueberry', 6: 'Cactus fruit', 7: 'Cantaloupe 1', 8: 'Carambula', 9: 'Cauliflower', 10: 'Cherry Wax Black', 11: 'Chestnut', 12: 'Clementine', 13: 'Cocos', 14: 'Corn', 15: 'Cucumber Ripe', 16: 'Dates', 17: 'Fig', 18: 'Ginger Root', 19: 'Granadilla', 20: 'Grape Blue', 21: 'Guava', 22: 'Hazelnut', 23: 'Huckleberry', 24: 'Kaki', 25: 'Kiwi', 26: 'Kohlrabi', 27: 'Kumquats', 28: 'Lemon', 29: 'Limes', 30: 'Lychee', 31: 'Mandarine', 32: 'Mango', 33: 'Maracuja', 34: 'Melon Piel de Sapo', 35: 'Mulberry', 36: 'Nectarine', 37: 'Nut Forest', 38: 'Onion White', 39: 'Orange', 40: 'Papaya', 41: 'Peach', 42: 'Pear', 43: 'Pepino', 44: 'Pepper Orange', 45: 'Physalis', 46: 'Pineapple', 47: 'Pitahaya Red', 48: 'Plum', 49: 'Pomegranate', 50: 'Pomelo Sweetie', 51: 'Potato Red', 52: 'Potato White', 53: 'Quince', 54: 'Rambutan', 55: 'Raspberry', 56: 'Redcurrant', 57: 'Salak', 58: 'Strawberry', 59: 'Tamarillo', 60: 'Tangelo', 61: 'Tomato Yellow', 62: 'Walnut', 63: 'Watermelon'}\n"
          ],
          "name": "stdout"
        }
      ]
    },
    {
      "cell_type": "code",
      "metadata": {
        "id": "pA0KK3RHRYzh",
        "colab_type": "code",
        "colab": {
          "base_uri": "https://localhost:8080/",
          "height": 35
        },
        "outputId": "f40eac77-fe9b-4424-f4d1-439e189b213e"
      },
      "source": [
        "print(len(training_label))"
      ],
      "execution_count": 139,
      "outputs": [
        {
          "output_type": "stream",
          "text": [
            "32332\n"
          ],
          "name": "stdout"
        }
      ]
    },
    {
      "cell_type": "code",
      "metadata": {
        "id": "mgUWg3sQRc0c",
        "colab_type": "code",
        "colab": {
          "base_uri": "https://localhost:8080/",
          "height": 35
        },
        "outputId": "5b1ae4b7-add9-4c90-e6eb-29496888c0e5"
      },
      "source": [
        "training_label_id = np.array([label_to_id[i] for i in training_label])\n",
        "training_label_id"
      ],
      "execution_count": 140,
      "outputs": [
        {
          "output_type": "execute_result",
          "data": {
            "text/plain": [
              "array([60, 60, 60, ..., 19, 19, 19])"
            ]
          },
          "metadata": {
            "tags": []
          },
          "execution_count": 140
        }
      ]
    },
    {
      "cell_type": "code",
      "metadata": {
        "id": "UMawfYtWRgcp",
        "colab_type": "code",
        "colab": {
          "base_uri": "https://localhost:8080/",
          "height": 35
        },
        "outputId": "3832dacb-fefa-4179-b056-ba595ab82337"
      },
      "source": [
        "training_fruit_img.shape,training_label_id.shape"
      ],
      "execution_count": 141,
      "outputs": [
        {
          "output_type": "execute_result",
          "data": {
            "text/plain": [
              "((32332, 64, 64, 3), (32332,))"
            ]
          },
          "metadata": {
            "tags": []
          },
          "execution_count": 141
        }
      ]
    },
    {
      "cell_type": "code",
      "metadata": {
        "id": "dZHSjMBKRlA_",
        "colab_type": "code",
        "colab": {}
      },
      "source": [
        "validation_fruit_img=[]\n",
        "validation_label =[]\n",
        "for dir_path in glob.glob(\"../content/fruits-360/Test/*\"):\n",
        "    img_label = dir_path.split(\"/\")[-1]\n",
        "    for image_path in glob.glob(os.path.join(dir_path,\"*.jpg\")):\n",
        "        image = cv2.imread(image_path,cv2.IMREAD_COLOR)\n",
        "        image = cv2.resize(image, (64, 64))\n",
        "        image = cv2.cvtColor(image, cv2.COLOR_RGB2BGR)\n",
        "        validation_fruit_img.append(image)\n",
        "        validation_label.append(img_label)\n",
        "validation_fruit_img = np.array(validation_fruit_img)\n",
        "validation_label = np.array(validation_label)"
      ],
      "execution_count": 142,
      "outputs": []
    },
    {
      "cell_type": "code",
      "metadata": {
        "id": "Ire0rXAGR4Wz",
        "colab_type": "code",
        "colab": {
          "base_uri": "https://localhost:8080/",
          "height": 35
        },
        "outputId": "c852ab37-9ffa-4ba0-eb6d-c8aea3e6c6a6"
      },
      "source": [
        "len(np.unique(validation_label))"
      ],
      "execution_count": 143,
      "outputs": [
        {
          "output_type": "execute_result",
          "data": {
            "text/plain": [
              "62"
            ]
          },
          "metadata": {
            "tags": []
          },
          "execution_count": 143
        }
      ]
    },
    {
      "cell_type": "code",
      "metadata": {
        "id": "Azs4ZHI5SYs3",
        "colab_type": "code",
        "colab": {}
      },
      "source": [
        "validation_label_id = np.array([label_to_id[i] for i in validation_label])"
      ],
      "execution_count": 144,
      "outputs": []
    },
    {
      "cell_type": "code",
      "metadata": {
        "id": "t516NfnlSc46",
        "colab_type": "code",
        "colab": {
          "base_uri": "https://localhost:8080/",
          "height": 35
        },
        "outputId": "d55cd0cb-c8dc-4fc3-c2dc-9e12f3c3f7b7"
      },
      "source": [
        "validation_fruit_img.shape,validation_label_id.shape"
      ],
      "execution_count": 145,
      "outputs": [
        {
          "output_type": "execute_result",
          "data": {
            "text/plain": [
              "((9205, 64, 64, 3), (9205,))"
            ]
          },
          "metadata": {
            "tags": []
          },
          "execution_count": 145
        }
      ]
    },
    {
      "cell_type": "code",
      "metadata": {
        "id": "SobjKnhPSkCT",
        "colab_type": "code",
        "colab": {
          "base_uri": "https://localhost:8080/",
          "height": 54
        },
        "outputId": "317dd4b2-39d1-4e75-8b40-dea0671be0a6"
      },
      "source": [
        "X_train,X_test = training_fruit_img,validation_fruit_img\n",
        "Y_train,Y_test =training_label_id,validation_label_id\n",
        "X_train = X_train/255\n",
        "X_test = X_test/255\n",
        "\n",
        "X_flat_train = X_train.reshape(X_train.shape[0],64*64*3)\n",
        "X_flat_test = X_test.reshape(X_test.shape[0],64*64*3)\n",
        "\n",
        "#One Hot Encode the Output\n",
        "Y_train = keras.utils.to_categorical(Y_train, 120)\n",
        "Y_test = keras.utils.to_categorical(Y_test, 120)\n",
        "\n",
        "print('Original Sizes:', X_train.shape, X_test.shape, Y_train.shape, Y_test.shape)\n",
        "print('Flattened:', X_flat_train.shape, X_flat_test.shape)"
      ],
      "execution_count": 146,
      "outputs": [
        {
          "output_type": "stream",
          "text": [
            "Original Sizes: (32332, 64, 64, 3) (9205, 64, 64, 3) (32332, 120) (9205, 120)\n",
            "Flattened: (32332, 12288) (9205, 12288)\n"
          ],
          "name": "stdout"
        }
      ]
    },
    {
      "cell_type": "code",
      "metadata": {
        "id": "eZYPI-mUTtO3",
        "colab_type": "code",
        "colab": {
          "base_uri": "https://localhost:8080/",
          "height": 286
        },
        "outputId": "f460c918-b809-4a7a-d807-8ef870358a62"
      },
      "source": [
        "print(X_train[1200].shape)\n",
        "plt.imshow(X_train[1200])\n",
        "plt.show()"
      ],
      "execution_count": 147,
      "outputs": [
        {
          "output_type": "stream",
          "text": [
            "(64, 64, 3)\n"
          ],
          "name": "stdout"
        },
        {
          "output_type": "display_data",
          "data": {
            "image/png": "[encoded data removed]",
            "text/plain": [
              "<Figure size 432x288 with 1 Axes>"
            ]
          },
          "metadata": {
            "tags": [],
            "needs_background": "light"
          }
        }
      ]
    },
    {
      "cell_type": "code",
      "metadata": {
        "id": "wy9F0XjsTzKC",
        "colab_type": "code",
        "colab": {}
      },
      "source": [
        "from keras.models import Sequential,Model\n",
        "from keras.layers import Dense,Dropout,Conv2D,MaxPooling2D,Flatten,Activation,BatchNormalization\n",
        "from keras.optimizers import Adamax\n",
        "from keras.layers.advanced_activations import LeakyReLU\n",
        "from keras import backend as K"
      ],
      "execution_count": 148,
      "outputs": []
    },
    {
      "cell_type": "code",
      "metadata": {
        "id": "hlJ9uB0JT31J",
        "colab_type": "code",
        "colab": {
          "base_uri": "https://localhost:8080/",
          "height": 972
        },
        "outputId": "1c9cbe0e-8e4f-4d2c-cb34-d2049c513cb9"
      },
      "source": [
        "model = Sequential()\n",
        "model.add(Conv2D(16,(5,5),input_shape=(64,64,3),padding='same'))\n",
        "model.add(LeakyReLU(0.5))\n",
        "model.add(BatchNormalization())\n",
        "model.add(MaxPooling2D(pool_size=(2,2)))\n",
        "\n",
        "model.add(Conv2D(32,(5,5),padding='same'))\n",
        "model.add(LeakyReLU(0.5))\n",
        "model.add(BatchNormalization())\n",
        "model.add(MaxPooling2D(pool_size=(2,2)))\n",
        "model.add(Dropout(0.25))\n",
        "\n",
        "\n",
        "model.add(Conv2D(64,(5,5),padding='same'))\n",
        "model.add(LeakyReLU(0.5))\n",
        "model.add(BatchNormalization())\n",
        "model.add(MaxPooling2D(pool_size=(2,2)))\n",
        "\n",
        "model.add(Conv2D(128,(5,5),padding='same'))\n",
        "model.add(LeakyReLU(0.5))\n",
        "model.add(BatchNormalization())\n",
        "model.add(MaxPooling2D(pool_size=(2,2)))\n",
        "\n",
        "model.add(Flatten())\n",
        "model.add(Dense(256,activation='relu'))\n",
        "#model.add(LeakyReLU(0.1))\n",
        "model.add(Dropout(0.5))\n",
        "model.add(Dense(120))\n",
        "model.add(Activation(\"softmax\"))\n",
        "\n",
        "model.summary()"
      ],
      "execution_count": 149,
      "outputs": [
        {
          "output_type": "stream",
          "text": [
            "Model: \"sequential_4\"\n",
            "_________________________________________________________________\n",
            "Layer (type)                 Output Shape              Param #   \n",
            "=================================================================\n",
            "conv2d_16 (Conv2D)           (None, 64, 64, 16)        1216      \n",
            "_________________________________________________________________\n",
            "leaky_re_lu_16 (LeakyReLU)   (None, 64, 64, 16)        0         \n",
            "_________________________________________________________________\n",
            "batch_normalization_16 (Batc (None, 64, 64, 16)        64        \n",
            "_________________________________________________________________\n",
            "max_pooling2d_16 (MaxPooling (None, 32, 32, 16)        0         \n",
            "_________________________________________________________________\n",
            "conv2d_17 (Conv2D)           (None, 32, 32, 32)        12832     \n",
            "_________________________________________________________________\n",
            "leaky_re_lu_17 (LeakyReLU)   (None, 32, 32, 32)        0         \n",
            "_________________________________________________________________\n",
            "batch_normalization_17 (Batc (None, 32, 32, 32)        128       \n",
            "_________________________________________________________________\n",
            "max_pooling2d_17 (MaxPooling (None, 16, 16, 32)        0         \n",
            "_________________________________________________________________\n",
            "dropout_8 (Dropout)          (None, 16, 16, 32)        0         \n",
            "_________________________________________________________________\n",
            "conv2d_18 (Conv2D)           (None, 16, 16, 64)        51264     \n",
            "_________________________________________________________________\n",
            "leaky_re_lu_18 (LeakyReLU)   (None, 16, 16, 64)        0         \n",
            "_________________________________________________________________\n",
            "batch_normalization_18 (Batc (None, 16, 16, 64)        256       \n",
            "_________________________________________________________________\n",
            "max_pooling2d_18 (MaxPooling (None, 8, 8, 64)          0         \n",
            "_________________________________________________________________\n",
            "conv2d_19 (Conv2D)           (None, 8, 8, 128)         204928    \n",
            "_________________________________________________________________\n",
            "leaky_re_lu_19 (LeakyReLU)   (None, 8, 8, 128)         0         \n",
            "_________________________________________________________________\n",
            "batch_normalization_19 (Batc (None, 8, 8, 128)         512       \n",
            "_________________________________________________________________\n",
            "max_pooling2d_19 (MaxPooling (None, 4, 4, 128)         0         \n",
            "_________________________________________________________________\n",
            "flatten_4 (Flatten)          (None, 2048)              0         \n",
            "_________________________________________________________________\n",
            "dense_8 (Dense)              (None, 256)               524544    \n",
            "_________________________________________________________________\n",
            "dropout_9 (Dropout)          (None, 256)               0         \n",
            "_________________________________________________________________\n",
            "dense_9 (Dense)              (None, 120)               30840     \n",
            "_________________________________________________________________\n",
            "activation_4 (Activation)    (None, 120)               0         \n",
            "=================================================================\n",
            "Total params: 826,584\n",
            "Trainable params: 826,104\n",
            "Non-trainable params: 480\n",
            "_________________________________________________________________\n"
          ],
          "name": "stdout"
        }
      ]
    },
    {
      "cell_type": "code",
      "metadata": {
        "id": "xVymwovkBFO4",
        "colab_type": "code",
        "colab": {}
      },
      "source": [
        "    class myCallback(tf.keras.callbacks.Callback):\n",
        "      def on_epoch_end(self, epoch, logs={}):\n",
        "        if(logs.get('accuracy')>0.97):\n",
        "          print(\"\\nAkurasi telah mencapai >90%!\")\n",
        "          self.model.stop_training = True\n",
        "    callbacks = myCallback()"
      ],
      "execution_count": 150,
      "outputs": []
    },
    {
      "cell_type": "code",
      "metadata": {
        "id": "y8uoqI_rT-e7",
        "colab_type": "code",
        "colab": {
          "base_uri": "https://localhost:8080/",
          "height": 164
        },
        "outputId": "46131122-256a-49d8-d061-0361c2fc9b01"
      },
      "source": [
        "model.compile(loss='categorical_crossentropy',\n",
        "             optimizer = Adamax(),\n",
        "             metrics=['accuracy'])\n",
        "\n",
        "history = model.fit(X_train,\n",
        "          Y_train,\n",
        "          batch_size=128,\n",
        "          epochs=12,\n",
        "          verbose=1,\n",
        "          callbacks=[callbacks],\n",
        "          validation_data = (X_test,Y_test)\n",
        "         )"
      ],
      "execution_count": 151,
      "outputs": [
        {
          "output_type": "stream",
          "text": [
            "Epoch 1/12\n",
            "253/253 [==============================] - 370s 1s/step - loss: 1.1757 - accuracy: 0.6949 - val_loss: 11.2125 - val_accuracy: 0.0202\n",
            "Epoch 2/12\n",
            "253/253 [==============================] - 371s 1s/step - loss: 0.1882 - accuracy: 0.9517 - val_loss: 2.1652 - val_accuracy: 0.4474\n",
            "Epoch 3/12\n",
            "253/253 [==============================] - ETA: 0s - loss: 0.0889 - accuracy: 0.9779\n",
            "Akurasi telah mencapai >90%!\n",
            "253/253 [==============================] - 369s 1s/step - loss: 0.0889 - accuracy: 0.9779 - val_loss: 0.2059 - val_accuracy: 0.9473\n"
          ],
          "name": "stdout"
        }
      ]
    },
    {
      "cell_type": "code",
      "metadata": {
        "id": "yzTuJAH7nbqm",
        "colab_type": "code",
        "colab": {
          "base_uri": "https://localhost:8080/",
          "height": 295
        },
        "outputId": "edec9e1f-1e0e-4279-9b54-4482db922b29"
      },
      "source": [
        "plt.plot(history.history['accuracy'])\n",
        "plt.plot(history.history['val_accuracy'])\n",
        "plt.title('model accuracy')\n",
        "plt.ylabel('accuracy')\n",
        "plt.xlabel('epoch')\n",
        "plt.legend(['train', 'val'], loc='upper left')\n",
        "plt.show()"
      ],
      "execution_count": 158,
      "outputs": [
        {
          "output_type": "display_data",
          "data": {
            "image/png": "[encoded data removed]",
            "text/plain": [
              "<Figure size 432x288 with 1 Axes>"
            ]
          },
          "metadata": {
            "tags": [],
            "needs_background": "light"
          }
        }
      ]
    },
    {
      "cell_type": "code",
      "metadata": {
        "id": "BUaHa_FBjvn8",
        "colab_type": "code",
        "colab": {
          "base_uri": "https://localhost:8080/",
          "height": 295
        },
        "outputId": "83366d69-f4a8-4b5b-c5ee-359ab9c99f00"
      },
      "source": [
        "plt.plot(history.history['loss'])\n",
        "plt.plot(history.history['val_loss'])\n",
        "plt.title('model loss')\n",
        "plt.ylabel('loss')\n",
        "plt.xlabel('epoch')\n",
        "plt.legend(['train', 'val'], loc='upper left')\n",
        "plt.show()"
      ],
      "execution_count": 157,
      "outputs": [
        {
          "output_type": "display_data",
          "data": {
            "image/png": "[encoded data removed]",
            "text/plain": [
              "<Figure size 432x288 with 1 Axes>"
            ]
          },
          "metadata": {
            "tags": [],
            "needs_background": "light"
          }
        }
      ]
    },
    {
      "cell_type": "code",
      "metadata": {
        "id": "snxdQxw70lVD",
        "colab_type": "code",
        "colab": {
          "base_uri": "https://localhost:8080/",
          "height": 54
        },
        "outputId": "9942a7cc-ce2b-4ef1-af5b-7cd59e3d4d36"
      },
      "source": [
        "    # Konversi model.\n",
        "    converter = tf.lite.TFLiteConverter.from_keras_model(model)\n",
        "    tflite_model = converter.convert()"
      ],
      "execution_count": 155,
      "outputs": [
        {
          "output_type": "stream",
          "text": [
            "INFO:tensorflow:Assets written to: /tmp/tmplj_7vv8y/assets\n"
          ],
          "name": "stdout"
        },
        {
          "output_type": "stream",
          "text": [
            "INFO:tensorflow:Assets written to: /tmp/tmplj_7vv8y/assets\n"
          ],
          "name": "stderr"
        }
      ]
    },
    {
      "cell_type": "code",
      "metadata": {
        "id": "oeDJrd-J0uuO",
        "colab_type": "code",
        "colab": {}
      },
      "source": [
        "    with tf.io.gfile.GFile('model.tflite', 'wb') as f:\n",
        "      f.write(tflite_model)"
      ],
      "execution_count": 156,
      "outputs": []
    }
  ]
}